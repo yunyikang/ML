{
 "cells": [
  {
   "cell_type": "code",
   "execution_count": 109,
   "metadata": {},
   "outputs": [
    {
     "data": {
      "image/png": "[encoded data removed]",
      "text/plain": [
       "<Figure size 432x288 with 1 Axes>"
      ]
     },
     "metadata": {
      "needs_background": "light"
     },
     "output_type": "display_data"
    },
    {
     "name": "stdout",
     "output_type": "stream",
     "text": [
      "avg is 0.5812605752543938, tithe is [[3.2447227 ]\n",
      " [1.78157138]]\n",
      "          y\n",
      "0  3.557667\n",
      "1  4.873885\n",
      "2  0.801153\n",
      "3  3.942173\n",
      "4  3.418765\n"
     ]
    }
   ],
   "source": [
    "import numpy as np  \n",
    "import pandas as pd\n",
    "import matplotlib.pyplot as plt\n",
    "import random\n",
    "\n",
    "x_dat = pd.read_csv('data/2/hw1x.dat', header=None, names=['x1'])\n",
    "y_dat = pd.read_csv('data/2/hw1y.dat', header=None, names=['y'])\n",
    "\n",
    "x_dat['x0'] = pd.Series([1]*n)\n",
    "\n",
    "cols = x_dat.columns.tolist()\n",
    "cols = cols[-1:] + cols[:-1]\n",
    "x_dat = x_dat[cols]\n",
    "\n",
    "x0 = x_dat['x0']\n",
    "x1 = x_dat['x1']\n",
    "y0 = y['y']\n",
    "n = x.shape[0]\n",
    "\n",
    "b = x_dat.transpose().dot(y_dat) / n\n",
    "A = x_dat.transpose().dot(x_dat) / n\n",
    "A_inv = np.linalg.inv(A)\n",
    "tithe = A_inv.dot(b)\n",
    "\n",
    "x_tithe = x_dat.dot(tithe)\n",
    "\n",
    "\n",
    "plt.plot(x1, y, 'ro')\n",
    "plt.plot(x1, x_tithe, 'ro', color='green')\n",
    "plt.show()\n",
    "\n",
    "\n",
    "risk = 0.5*(ys - x_tithe[0])**2\n",
    "avg = risk.sum() / n\n",
    "print('avg is {}, tithe is {}'.format(avg, tithe))\n"
   ]
  },
  {
   "cell_type": "code",
   "execution_count": 5,
   "metadata": {},
   "outputs": [
    {
     "name": "stdout",
     "output_type": "stream",
     "text": [
      "avg is 780.1195438163363, tithe is 21.378844343372002\n"
     ]
    }
   ],
   "source": [
    "#gradient descent without offset \n",
    "tithe = 0\n",
    "lr = 0.01\n",
    "best_tithe = 0\n",
    "best_avg = float('inf')\n",
    "\n",
    "for i in range(10):\n",
    "    loss = z* (ys - z*tithe)\n",
    "    tithe = tithe + loss.sum() * lr \n",
    "    \n",
    "\n",
    "    risk = 0.5*(ys-z*tithe)**2\n",
    "    avg = risk.sum() / n\n",
    "    if avg < best_avg:\n",
    "        best_avg = avg\n",
    "        best_tithe = tithe\n",
    "\n",
    "print('avg is {}, tithe is {}'.format(best_avg, best_tithe))\n"
   ]
  },
  {
   "cell_type": "code",
   "execution_count": 6,
   "metadata": {},
   "outputs": [
    {
     "name": "stdout",
     "output_type": "stream",
     "text": [
      "avg is 22.7038856283732, tithe is (11.308440461572003, 10.070403881799995)\n"
     ]
    }
   ],
   "source": [
    "#gradient descent with offset\n",
    "tithe = pd.Series([0,0],['x0','x1'])\n",
    "lr = 0.01    \n",
    "\n",
    "best_tithe=[0,0]\n",
    "best_avg = float('inf')\n",
    "\n",
    "for i in range(1):\n",
    "    loss = pd.DataFrame()\n",
    "\n"
   ]
  },
  {
   "cell_type": "code",
   "execution_count": null,
   "metadata": {},
   "outputs": [],
   "source": [
    "    loss['x'] = xs * (ys - xs*tithe[0] + offset*tithe[1])\n",
    "    loss['offset'] = offset * (ys -xs*tithe[0] + offset*tithe[1])tithe = tithe + loss.sum()*lr\n",
    "    risk = 0.5 * (ys - xs*tithe[0] + offset*tithe[1])**2    \n",
    "    avg = risk.sum() / n\n",
    "    \n",
    "    if avg < best_avg:\n",
    "        best_avg = avg\n",
    "        best_tithe = tithe\n",
    "\n",
    "print('avg is {}, tithe is ({}, {})'.format(best_avg,best_tithe[0],best_tithe[1]))"
   ]
  },
  {
   "cell_type": "code",
   "execution_count": 7,
   "metadata": {},
   "outputs": [
    {
     "name": "stdout",
     "output_type": "stream",
     "text": [
      "best avg is 12.751145262390624, tithe is (0.44596140601542045, 0.28589048589954913)\n"
     ]
    }
   ],
   "source": [
    "#stochastic gradient descent with offset \n",
    "tithe = pd.Series([0,0],['x','offset'])\n",
    "lr = 0.01\n",
    "\n",
    "best_tithe=[0,0]\n",
    "best_avg = float('inf')\n",
    "\n",
    "for i in range(5):\n",
    "    r = random.randrange(n)\n",
    "    pt_loss = lr*(ys[r]-xs[r]*tithe[0]+offset[r]*tithe[1])*pd.Series([xs[r],offset[r]], ['x','offset'])\n",
    "    tithe = tithe + pt_loss\n",
    "    risk = 0.5*(ys-xs*tithe['x']+offset*tithe['offset'])**2\n",
    "    avg = risk.sum() / n\n",
    "    \n",
    "    if avg < best_avg:\n",
    "        best_avg = avg\n",
    "        best_tithe = tithe\n",
    "print('best avg is {}, tithe is ({}, {})'.format(best_avg, best_tithe['x'], best_tithe['offset']))"
   ]
  },
  {
   "cell_type": "code",
   "execution_count": 8,
   "metadata": {},
   "outputs": [
    {
     "name": "stdout",
     "output_type": "stream",
     "text": [
      "best avg is 8.456292662580669, tithe is 0.5632885733361089\n"
     ]
    }
   ],
   "source": [
    "#stochastic gradient descent without offset \n",
    "\n",
    "tithe = 0\n",
    "lr = 0.01\n",
    "\n",
    "best_tithe = 0\n",
    "best_avg = float('inf')\n",
    "\n",
    "for i in range(5):\n",
    "    r = random.randrange(n)\n",
    "    loss = z[r]* (ys[r] - z[r]*tithe)\n",
    "    tithe = tithe + loss * lr \n",
    "    \n",
    "    risk = 0.5*(ys-z*tithe)**2\n",
    "    avg = risk.sum() / n\n",
    "    \n",
    "    if avg < best_avg:\n",
    "        best_avg = avg\n",
    "        best_tithe = tithe\n",
    "print('best avg is {}, tithe is {}'.format(best_avg, best_tithe))"
   ]
  },
  {
   "cell_type": "code",
   "execution_count": 9,
   "metadata": {},
   "outputs": [
    {
     "name": "stdout",
     "output_type": "stream",
     "text": [
      "avg is 0.3899588901865492, tithe is [[ 7.92701868]\n",
      " [-2.47248351]]\n"
     ]
    }
   ],
   "source": [
    "#poly regress without offset\n",
    "x = pd.read_csv('data/2/hw1x.dat', header=None,names='x')\n",
    "d = 2\n",
    "for i in range(d-1):\n",
    "    x['x{}'.format(i+2)] = x['x']**(i+2)\n",
    "\n",
    "b = x.transpose().dot(y) / n\n",
    "A = x.transpose().dot(x) / n\n",
    "A_inv = np.linalg.inv(A)\n",
    "tithe = A_inv.dot(b)\n",
    "\n",
    "x_tithe = x.dot(tithe)\n",
    "\n",
    "risk = ys - x_tithe[0]\n",
    "avg = risk.sum() / n\n",
    "print('avg is {}, tithe is {}'.format(avg, tithe))"
   ]
  },
  {
   "cell_type": "code",
   "execution_count": 10,
   "metadata": {},
   "outputs": [
    {
     "name": "stdout",
     "output_type": "stream",
     "text": [
      "avg is 7.038813976123492e-16, tithe is [[1.78157138]\n",
      " [3.2447227 ]]\n"
     ]
    }
   ],
   "source": [
    "#poly regress with offset\n",
    "x = pd.read_csv('data/2/hw1x.dat', header=None,names='x')\n",
    "y = pd.read_csv('data/2/hw1y.dat', header=None,names='y')\n",
    "\n",
    "d = 1 \n",
    "for i in range(d-1):\n",
    "    x['x{}'.format(i+2)] = x['x']**(i+2)\n",
    "    \n",
    "x['offset'] = pd.Series([1]*n)\n",
    "\n",
    "b = x.transpose().dot(y) / n\n",
    "A = x.transpose().dot(x) / n\n",
    "A_inv = np.linalg.inv(A)\n",
    "tithe = A_inv.dot(b)\n",
    "\n",
    "x_tithe = x.dot(tithe)\n",
    "\n",
    "risk = ys - x_tithe[0]\n",
    "avg = risk.sum() / n\n",
    "print('avg is {}, tithe is {}'.format(avg, tithe))"
   ]
  },
  {
   "cell_type": "code",
   "execution_count": 11,
   "metadata": {},
   "outputs": [],
   "source": [
    "x = pd.read_csv('data/2/hw1x.dat', header=None,names='x')\n",
    "y = pd.read_csv('data/2/hw1y.dat', header=None,names='y')\n",
    "def PolyRegress(x,y,d):\n",
    "    for i in range(d-1):\n",
    "        x['x{}'.format(i+2)] = x['x']**(i+2)\n",
    "\n",
    "    b = x.transpose().dot(y) / n\n",
    "    A = x.transpose().dot(x) / n\n",
    "    A_inv = np.linalg.inv(A)\n",
    "    tithe = A_inv.dot(b)\n",
    "\n",
    "     "
   ]
  },
  {
   "cell_type": "code",
   "execution_count": 68,
   "metadata": {},
   "outputs": [],
   "source": [
    "#qn3a\n",
    "x = pd.read_csv('data/3/hw1_ridge_x.dat', header=None)\n",
    "y = pd.read_csv('data/3/hw1_ridge_y.dat', header=None)\n",
    "\n",
    "vX = x[0:10]\n",
    "tX = x[10:40]\n",
    "\n",
    "vY = y[0:10]\n",
    "tY = y[10:40]\n",
    "\n",
    "l = 0.15\n",
    "tr_n = tX.shape[0]\n",
    "d = tX.shape[1]\n",
    "xy = tX.transpose().dot(tY)\n",
    "iden = np.identity(d)*tr_n*l\n",
    "xx = tX.transpose().dot(tX)\n",
    "inverse = np.linalg.inv(iden + xx)\n",
    "tithe = inverse.dot(xy)\n",
    "\n",
    "def ridge_regression(tX,tY,l):\n",
    "    d = tX.shape[1]\n",
    "    xy = tX.transpose().dot(tY)\n",
    "    iden = np.identity(d)*tr_n*l\n",
    "    xx = tX.transpose().dot(tX)\n",
    "    inverse = np.linalg.inv(iden + xx)\n",
    "    tithe = inverse.dot(xy)\n",
    "    return tithe\n",
    "\n"
   ]
  },
  {
   "cell_type": "code",
   "execution_count": 74,
   "metadata": {},
   "outputs": [
    {
     "data": {
      "text/plain": [
       "[<matplotlib.lines.Line2D at 0x7f523e0b0be0>]"
      ]
     },
     "execution_count": 74,
     "metadata": {},
     "output_type": "execute_result"
    },
    {
     "data": {
      "image/png": "[encoded data removed]",
      "text/plain": [
       "<Figure size 432x288 with 1 Axes>"
      ]
     },
     "metadata": {
      "needs_background": "light"
     },
     "output_type": "display_data"
    }
   ],
   "source": [
    "#b\n",
    "tn = tX.shape[0]\n",
    "vn = vX.shape[0]\n",
    "tloss = []\n",
    "vloss = []\n",
    "index = -np.arange(0,5,0.1)\n",
    "for i in index:\n",
    "    w = ridge_regression(tX,tY,10**i)\n",
    "    tloss = tloss +[np.sum((np.dot(tX,w)-tY)**2)/tn/2]\n",
    "    vloss = vloss + [np.sum((np.dot(vX,w)-vY)**2)/vn/2]\n",
    "    \n",
    "\n",
    "plt.plot(index,np.log(tloss),'r')\n",
    "plt.plot(index,np.log(vloss),'b')"
   ]
  },
  {
   "cell_type": "code",
   "execution_count": null,
   "metadata": {},
   "outputs": [],
   "source": []
  }
 ],
 "metadata": {
  "kernelspec": {
   "display_name": "Python 3",
   "language": "python",
   "name": "python3"
  },
  "language_info": {
   "codemirror_mode": {
    "name": "ipython",
    "version": 3
   },
   "file_extension": ".py",
   "mimetype": "text/x-python",
   "name": "python",
   "nbconvert_exporter": "python",
   "pygments_lexer": "ipython3",
   "version": "3.6.8"
  }
 },
 "nbformat": 4,
 "nbformat_minor": 2
}
