{
 "cells": [
  {
   "cell_type": "code",
   "execution_count": 136,
   "metadata": {},
   "outputs": [
    {
     "data": {
      "image/png": "[encoded data removed]",
      "text/plain": [
       "<Figure size 432x288 with 1 Axes>"
      ]
     },
     "metadata": {
      "needs_background": "light"
     },
     "output_type": "display_data"
    },
    {
     "name": "stdout",
     "output_type": "stream",
     "text": [
      "avg is 0.6632188479115172, tithe is 2.4554474534981106\n"
     ]
    }
   ],
   "source": [
    "import numpy as np  \n",
    "import pandas as pd\n",
    "import matplotlib.pyplot as plt\n",
    "import random\n",
    "\n",
    "#closed form without offset\n",
    "x = pd.read_csv('data/2/hw1x.dat', header=None,names='x')\n",
    "y = pd.read_csv('data/2/hw1y.dat', header=None,names='y')\n",
    "ys = y['y']\n",
    "z = x['x']+1\n",
    "n = x.shape[0]\n",
    "\n",
    "b = z.transpose().dot(ys) / n\n",
    "A = z.transpose().dot(z) / n\n",
    "tithe = b/A\n",
    "\n",
    "tithe_z = z*tithe\n",
    "plt.plot(z, y, 'ro')\n",
    "plt.plot(z, tithe_z, 'ro', color='green')\n",
    "plt.show()\n",
    "\n",
    "risk = 0.5*(ys - z*tithe)**2\n",
    "avg = risk.sum() / n\n",
    "print('avg is {}, tithe is {}'.format(avg, tithe))"
   ]
  },
  {
   "cell_type": "code",
   "execution_count": 69,
   "metadata": {},
   "outputs": [
    {
     "data": {
      "image/png": "[encoded data removed]",
      "text/plain": [
       "<Figure size 432x288 with 1 Axes>"
      ]
     },
     "metadata": {
      "needs_background": "light"
     },
     "output_type": "display_data"
    },
    {
     "name": "stdout",
     "output_type": "stream",
     "text": [
      "avg is 21.637711429191096, tithe is (1.7815713798289945, 3.24472270417186)\n"
     ]
    }
   ],
   "source": [
    "#closed form with offset\n",
    "x['offset'] = pd.Series([1]*n)\n",
    "xs = x['x']\n",
    "offset = x['offset']\n",
    "\n",
    "b = x.transpose().dot(y) / n\n",
    "A = x.transpose().dot(x) / n\n",
    "A_inv = np.linalg.inv(A)\n",
    "tithe = A_inv.dot(b)\n",
    "\n",
    "tithe_x = xs*tithe[0] + offset*tithe[1]\n",
    "plt.plot(xs, y, 'ro')\n",
    "plt.plot(xs, tithe_x, 'ro', color='green')\n",
    "plt.show()\n",
    "\n",
    "risk = 0.5 * (ys -xs*tithe[0]+offset*tithe[1])**2\n",
    "avg = risk.sum() / n\n",
    "print('avg is {}, tithe is ({}, {})'.format(avg, tithe[0][0],tithe[1][0]))"
   ]
  },
  {
   "cell_type": "code",
   "execution_count": 138,
   "metadata": {},
   "outputs": [
    {
     "name": "stdout",
     "output_type": "stream",
     "text": [
      "avg is 780.1195438163363, tithe is 21.378844343372002\n"
     ]
    }
   ],
   "source": [
    "#gradient descent without offset \n",
    "tithe = 0\n",
    "lr = 0.01\n",
    "best_tithe = 0\n",
    "best_avg = float('inf')\n",
    "\n",
    "for i in range(10):\n",
    "    loss = z* (ys - z*tithe)\n",
    "    tithe = tithe + loss.sum() * lr \n",
    "    \n",
    "\n",
    "    risk = 0.5*(ys-z*tithe)**2\n",
    "    avg = risk.sum() / n\n",
    "    if avg < best_avg:\n",
    "        best_avg = avg\n",
    "        best_tithe = tithe\n",
    "\n",
    "print('avg is {}, tithe is {}'.format(best_avg, best_tithe))\n"
   ]
  },
  {
   "cell_type": "code",
   "execution_count": 97,
   "metadata": {},
   "outputs": [
    {
     "name": "stdout",
     "output_type": "stream",
     "text": [
      "avg is 22.7038856283732, tithe is (11.308440461572003, 10.070403881799995)\n"
     ]
    }
   ],
   "source": [
    "#gradient descent with offset\n",
    "tithe = pd.Series([0,0],['x','offset'])\n",
    "lr = 0.01    \n",
    "\n",
    "best_tithe=[0,0]\n",
    "best_avg = float('inf')\n",
    "\n",
    "for i in range(1):\n",
    "    loss = pd.DataFrame()\n",
    "    loss['x'] = xs * (ys - xs*tithe[0] + offset*tithe[1])\n",
    "    loss['offset'] = offset * (ys -xs*tithe[0] + offset*tithe[1])\n",
    "    tithe = tithe + loss.sum()*lr\n",
    "    risk = 0.5 * (ys - xs*tithe[0] + offset*tithe[1])**2    \n",
    "    avg = risk.sum() / n\n",
    "    \n",
    "    if avg < best_avg:\n",
    "        best_avg = avg\n",
    "        best_tithe = tithe\n",
    "\n",
    "print('avg is {}, tithe is ({}, {})'.format(best_avg,best_tithe[0],best_tithe[1]))"
   ]
  },
  {
   "cell_type": "code",
   "execution_count": 98,
   "metadata": {},
   "outputs": [
    {
     "name": "stdout",
     "output_type": "stream",
     "text": [
      "best avg is 12.579579320920928, tithe is (0.5023234782665836, 0.31227286853067165)\n"
     ]
    }
   ],
   "source": [
    "#stochastic gradient descent with offset \n",
    "tithe = pd.Series([0,0],['x','offset'])\n",
    "lr = 0.01\n",
    "\n",
    "best_tithe=[0,0]\n",
    "best_avg = float('inf')\n",
    "\n",
    "for i in range(5):\n",
    "    r = random.randrange(n)\n",
    "    pt_loss = lr*(ys[r]-xs[r]*tithe[0]+offset[r]*tithe[1])*pd.Series([xs[r],offset[r]], ['x','offset'])\n",
    "    tithe = tithe + pt_loss\n",
    "    risk = 0.5*(ys-xs*tithe['x']+offset*tithe['offset'])**2\n",
    "    avg = risk.sum() / n\n",
    "    \n",
    "    if avg < best_avg:\n",
    "        best_avg = avg\n",
    "        best_tithe = tithe\n",
    "print('best avg is {}, tithe is ({}, {})'.format(best_avg, best_tithe['x'], best_tithe['offset']))"
   ]
  },
  {
   "cell_type": "code",
   "execution_count": 99,
   "metadata": {},
   "outputs": [
    {
     "name": "stdout",
     "output_type": "stream",
     "text": [
      "best avg is 10.505076884853514, tithe is 0.3290631706395521\n"
     ]
    }
   ],
   "source": [
    "#stochastic gradient descent without offset \n",
    "\n",
    "tithe = 0\n",
    "lr = 0.01\n",
    "\n",
    "best_tithe = 0\n",
    "best_avg = float('inf')\n",
    "\n",
    "for i in range(5):\n",
    "    r = random.randrange(n)\n",
    "    loss = z[r]* (ys[r] - z[r]*tithe)\n",
    "    tithe = tithe + loss * lr \n",
    "    \n",
    "    risk = 0.5*(ys-z*tithe)**2\n",
    "    avg = risk.sum() / n\n",
    "    \n",
    "    if avg < best_avg:\n",
    "        best_avg = avg\n",
    "        best_tithe = tithe\n",
    "print('best avg is {}, tithe is {}'.format(best_avg, best_tithe))"
   ]
  },
  {
   "cell_type": "code",
   "execution_count": 142,
   "metadata": {},
   "outputs": [
    {
     "name": "stdout",
     "output_type": "stream",
     "text": [
      "avg is 0.38995889018657776, tithe is [[ 7.92701868]\n",
      " [-2.47248351]]\n"
     ]
    }
   ],
   "source": [
    "#poly regress without offset\n",
    "x = pd.read_csv('data/2/hw1x.dat', header=None,names='x')\n",
    "d = 2\n",
    "for i in range(d-1):\n",
    "    x['x{}'.format(i+2)] = x['x']**(i+2)\n",
    "\n",
    "b = x.transpose().dot(y) / n\n",
    "A = x.transpose().dot(x) / n\n",
    "A_inv = np.linalg.inv(A)\n",
    "tithe = A_inv.dot(b)\n",
    "\n",
    "x_tithe = x.dot(tithe)\n",
    "\n",
    "risk = ys - x_tithe[0]\n",
    "avg = risk.sum() / n\n",
    "print('avg is {}, tithe is {}'.format(avg, tithe))"
   ]
  },
  {
   "cell_type": "code",
   "execution_count": 133,
   "metadata": {},
   "outputs": [
    {
     "name": "stdout",
     "output_type": "stream",
     "text": [
      "avg is 7.038813976123492e-16, tithe is [[1.78157138]\n",
      " [3.2447227 ]]\n"
     ]
    }
   ],
   "source": [
    "#poly regress with offset\n",
    "x = pd.read_csv('data/2/hw1x.dat', header=None,names='x')\n",
    "d = 1 \n",
    "for i in range(d-1):\n",
    "    x['x{}'.format(i+2)] = x['x']**(i+2)\n",
    "x['offset'] = pd.Series([1]*n)\n",
    "\n",
    "b = x.transpose().dot(y) / n\n",
    "A = x.transpose().dot(x) / n\n",
    "A_inv = np.linalg.inv(A)\n",
    "tithe = A_inv.dot(b)\n",
    "\n",
    "x_tithe = x.dot(tithe)\n",
    "\n",
    "risk = ys - x_tithe[0]\n",
    "avg = risk.sum() / n\n",
    "print('avg is {}, tithe is {}'.format(avg, tithe))"
   ]
  },
  {
   "cell_type": "code",
   "execution_count": null,
   "metadata": {},
   "outputs": [],
   "source": [
    "x_tithe = x.dot(tithe)\n",
    "\n",
    "risk = ys - x_tithe[0]\n",
    "avg = risk.sum() / n\n",
    "print('avg is {}, tithe is {}'.format(avg, tithe))\n",
    "\n",
    "#def PolyRegress(x,y,d):\n",
    "    #for i in range(d-1):\n",
    "        #x['x{}'.format(i+2)] = x['x']**(i+2)\n",
    "\n",
    "     "
   ]
  }
 ],
 "metadata": {
  "kernelspec": {
   "display_name": "Python 3",
   "language": "python",
   "name": "python3"
  },
  "language_info": {
   "codemirror_mode": {
    "name": "ipython",
    "version": 3
   },
   "file_extension": ".py",
   "mimetype": "text/x-python",
   "name": "python",
   "nbconvert_exporter": "python",
   "pygments_lexer": "ipython3",
   "version": "3.7.4"
  }
 },
 "nbformat": 4,
 "nbformat_minor": 2
}
